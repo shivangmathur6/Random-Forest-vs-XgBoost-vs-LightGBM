{
 "cells": [
  {
   "cell_type": "markdown",
   "metadata": {},
   "source": [
    "# House Sale Price Prediction [Kaggle Problem](https://www.kaggle.com/c/house-prices-advanced-regression-techniques/overview)"
   ]
  },
  {
   "cell_type": "markdown",
   "metadata": {},
   "source": [
    "#### Problem Statement : **Predict house sale prices**"
   ]
  },
  {
   "cell_type": "markdown",
   "metadata": {},
   "source": [
    "#### Metrics Used : RMSLE"
   ]
  },
  {
   "cell_type": "markdown",
   "metadata": {},
   "source": [
    "#### Importing Libraries and reading the data"
   ]
  },
  {
   "cell_type": "code",
   "execution_count": 1,
   "metadata": {},
   "outputs": [],
   "source": [
    "%load_ext autoreload\n",
    "%autoreload 2\n",
    "\n",
    "%matplotlib inline"
   ]
  },
  {
   "cell_type": "code",
   "execution_count": 2,
   "metadata": {},
   "outputs": [],
   "source": [
    "from fastai.imports import *\n",
    "from fastai.structured import *\n",
    "import seaborn as sns\n",
    "import matplotlib.pyplot as plt\n",
    "from pandas_summary import DataFrameSummary\n",
    "from sklearn.ensemble import RandomForestRegressor, RandomForestClassifier\n",
    "from IPython.display import display\n",
    "import xgboost as xgb\n",
    "from sklearn import metrics\n",
    "from sklearn.model_selection import RandomizedSearchCV, GridSearchCV"
   ]
  },
  {
   "cell_type": "code",
   "execution_count": 3,
   "metadata": {},
   "outputs": [],
   "source": [
    "PATH = \"/home/shivangmathur/Downloads/house-prices-advanced-regression-techniques/\""
   ]
  },
  {
   "cell_type": "code",
   "execution_count": 4,
   "metadata": {},
   "outputs": [],
   "source": [
    "df_raw = pd.read_csv(f'{PATH}train.csv', low_memory=False)"
   ]
  },
  {
   "cell_type": "code",
   "execution_count": 5,
   "metadata": {},
   "outputs": [],
   "source": [
    "df_test = pd.read_csv(f'{PATH}test.csv', low_memory=False)"
   ]
  },
  {
   "cell_type": "markdown",
   "metadata": {},
   "source": [
    "# Feature Engineering"
   ]
  },
  {
   "cell_type": "markdown",
   "metadata": {},
   "source": [
    "**Creating new features**"
   ]
  },
  {
   "cell_type": "code",
   "execution_count": 6,
   "metadata": {},
   "outputs": [],
   "source": [
    "df_raw['Age'] = df_raw['YrSold'] - df_raw['YearBuilt']\n",
    "df_test['Age'] = df_test['YrSold'] - df_test['YearBuilt']"
   ]
  },
  {
   "cell_type": "code",
   "execution_count": 7,
   "metadata": {},
   "outputs": [],
   "source": [
    "df_raw['Remodel Age'] = df_raw['YrSold'] - df_raw['YearRemodAdd']\n",
    "df_test['Remodel Age'] = df_test['YrSold'] - df_test['YearRemodAdd']"
   ]
  },
  {
   "cell_type": "code",
   "execution_count": 8,
   "metadata": {},
   "outputs": [],
   "source": [
    "df_raw.drop(['YrSold'], axis=1,inplace=True)\n",
    "df_raw.drop(['YearBuilt'], axis=1,inplace=True)\n",
    "df_raw.drop(['YearRemodAdd'], axis=1,inplace=True)\n",
    "df_test.drop(['YrSold'], axis=1,inplace=True)\n",
    "df_test.drop(['YearBuilt'], axis=1,inplace=True)\n",
    "df_test.drop(['YearRemodAdd'], axis=1,inplace=True)\n",
    "df_raw.drop(['GarageArea'], axis=1,inplace=True)\n",
    "df_test.drop(['GarageArea'], axis=1,inplace=True)\n"
   ]
  },
  {
   "cell_type": "code",
   "execution_count": 9,
   "metadata": {},
   "outputs": [],
   "source": [
    "df_raw['Quality'] = df_raw['OverallCond']+df_raw['OverallQual']\n",
    "df_test['Quality'] = df_test['OverallCond']+df_test['OverallQual']"
   ]
  },
  {
   "cell_type": "code",
   "execution_count": 10,
   "metadata": {},
   "outputs": [],
   "source": [
    "df_raw.drop(['OverallCond'], axis=1,inplace=True)\n",
    "df_raw.drop(['OverallQual'], axis=1,inplace=True)\n",
    "df_test.drop(['OverallCond'], axis=1,inplace=True)\n",
    "df_test.drop(['OverallQual'], axis=1,inplace=True)"
   ]
  },
  {
   "cell_type": "code",
   "execution_count": 11,
   "metadata": {},
   "outputs": [],
   "source": [
    "df_raw['Avg area of room'] = df_raw['GrLivArea']/df_raw['TotRmsAbvGrd']\n",
    "df_test['Avg area of room'] = df_test['GrLivArea']/df_test['TotRmsAbvGrd']"
   ]
  },
  {
   "cell_type": "markdown",
   "metadata": {},
   "source": [
    "**Converting into categorical values using train_cats and apply_cats techniques of fastai**"
   ]
  },
  {
   "cell_type": "code",
   "execution_count": 12,
   "metadata": {},
   "outputs": [],
   "source": [
    "train_cats(df_raw)\n",
    "apply_cats(df=df_test, trn=df_raw)"
   ]
  },
  {
   "cell_type": "markdown",
   "metadata": {},
   "source": [
    "**Taking the log of the SalePrice as we need to calculate rmsle**"
   ]
  },
  {
   "cell_type": "code",
   "execution_count": 13,
   "metadata": {},
   "outputs": [],
   "source": [
    "df_raw.SalePrice = np.log(df_raw.SalePrice)"
   ]
  },
  {
   "cell_type": "markdown",
   "metadata": {},
   "source": [
    "**Handling with missing values and performing one hot encoding using proc_df technique of fastai**"
   ]
  },
  {
   "cell_type": "code",
   "execution_count": 14,
   "metadata": {},
   "outputs": [],
   "source": [
    "df_trn2, y_trn, nas = proc_df(df_raw, 'SalePrice', max_n_cat=30)\n",
    "df_test2,_,nas= proc_df(df_test,max_n_cat=30,na_dict=nas)"
   ]
  },
  {
   "cell_type": "code",
   "execution_count": 15,
   "metadata": {},
   "outputs": [],
   "source": [
    "df_trn2.drop(['Id'], axis=1,inplace=True)\n",
    "df_test2.drop(['Id'], axis=1,inplace=True)"
   ]
  },
  {
   "cell_type": "markdown",
   "metadata": {},
   "source": [
    "**Creating validation set**"
   ]
  },
  {
   "cell_type": "code",
   "execution_count": 16,
   "metadata": {},
   "outputs": [],
   "source": [
    "def split_vals(a,n): return a[:n].copy(), a[n:].copy()\n",
    "\n",
    "n_valid = 350  \n",
    "n_trn = len(df_trn2)-n_valid\n",
    "raw_train, raw_valid = split_vals(df_raw, n_trn)\n",
    "X_train, X_valid = split_vals(df_trn2, n_trn)\n",
    "y_train, y_valid = split_vals(y_trn, n_trn)\n",
    "X_train.shape, y_train.shape, X_valid.shape\n",
    "\n",
    "n_test = 100\n"
   ]
  },
  {
   "cell_type": "markdown",
   "metadata": {},
   "source": [
    "**A function to calculate Root Mean Squared Logarithmic Error (RMSLE)**"
   ]
  },
  {
   "cell_type": "code",
   "execution_count": 17,
   "metadata": {},
   "outputs": [],
   "source": [
    "def rmse(x,y): return math.sqrt(((x-y)**2).mean())\n",
    "\n",
    "def print_score(m):\n",
    "    res = [rmse(m.predict(X_train), y_train),\n",
    "           rmse(m.predict(X_valid), y_valid),\n",
    "           m.score(X_train, y_train), m.score(X_valid, y_valid)]\n",
    "    if hasattr(m, 'oob_score_'): res.append(m.oob_score_)\n",
    "    print(res)"
   ]
  },
  {
   "cell_type": "markdown",
   "metadata": {},
   "source": [
    "# Creating and comparing different Models"
   ]
  },
  {
   "cell_type": "markdown",
   "metadata": {},
   "source": [
    "# 1. Random Forest"
   ]
  },
  {
   "cell_type": "code",
   "execution_count": 18,
   "metadata": {},
   "outputs": [
    {
     "name": "stdout",
     "output_type": "stream",
     "text": [
      "[0.051126540977615556, 0.13408599474427088, 0.9840166231447661, 0.8772651228225457, 0.879067475870035]\n"
     ]
    }
   ],
   "source": [
    "\n",
    "m = RandomForestRegressor(n_estimators=120, min_samples_leaf=1, \n",
    "                      max_features=0.6, n_jobs=-1, oob_score=True)\n",
    "m.fit(X_train, y_train) \n",
    "print_score(m)"
   ]
  },
  {
   "cell_type": "markdown",
   "metadata": {},
   "source": [
    "RMSLE in Random Forest : 0.13227153479706344"
   ]
  },
  {
   "cell_type": "code",
   "execution_count": 19,
   "metadata": {},
   "outputs": [
    {
     "data": {
      "text/plain": [
       "array([122203.1086 , 150356.04613, 185264.59867, ..., 153936.96384, 125374.86555, 229603.63051])"
      ]
     },
     "execution_count": 19,
     "metadata": {},
     "output_type": "execute_result"
    }
   ],
   "source": [
    "preds_log = m.predict(df_test2)\n",
    "pred = np.expm1(preds_log)\n",
    "pred\n",
    "#Calculating predictions"
   ]
  },
  {
   "cell_type": "code",
   "execution_count": 20,
   "metadata": {},
   "outputs": [
    {
     "data": {
      "image/png": "[encoded data removed]",
      "text/plain": [
       "<Figure size 432x288 with 1 Axes>"
      ]
     },
     "metadata": {
      "needs_background": "light"
     },
     "output_type": "display_data"
    }
   ],
   "source": [
    "#Understanding how number of estimators will effect the perfomance\n",
    "preds = np.stack([t.predict(X_valid) for t in m.estimators_])\n",
    "preds[:,0], np.mean(preds[:,0]), y_valid[0]\n",
    "plt.plot([metrics.r2_score(y_valid, np.mean(preds[:i+1], axis=0)) for i in range(100)]);"
   ]
  },
  {
   "cell_type": "markdown",
   "metadata": {},
   "source": [
    "# 2. LightGBM"
   ]
  },
  {
   "cell_type": "code",
   "execution_count": 21,
   "metadata": {},
   "outputs": [
    {
     "name": "stdout",
     "output_type": "stream",
     "text": [
      "[0.06336699226388687, 0.12179076035781768, 0.9754471503395252, 0.8987418847332886]\n"
     ]
    }
   ],
   "source": [
    "import lightgbm as lgb\n",
    "model_lgb = lgb.LGBMRegressor(objective='regression',num_leaves=5,\n",
    "                              learning_rate=0.055, n_estimators=850,\n",
    "                              max_bin = 55, bagging_fraction = 0.8,\n",
    "                              bagging_freq = 6, feature_fraction = 0.2319,\n",
    "                              feature_fraction_seed=9, bagging_seed=9,\n",
    "                              min_data_in_leaf =6, min_sum_hessian_in_leaf = 11)\n",
    "model_lgb.fit(X_train, y_train) \n",
    "print_score(model_lgb)"
   ]
  },
  {
   "cell_type": "markdown",
   "metadata": {},
   "source": [
    "RMSLE in Light GBM : 0.12468412714185853"
   ]
  },
  {
   "cell_type": "code",
   "execution_count": 22,
   "metadata": {},
   "outputs": [
    {
     "data": {
      "text/plain": [
       "array([123148.56115, 154271.55396, 184849.57149, ..., 163356.16423, 128242.21164, 208532.24301])"
      ]
     },
     "execution_count": 22,
     "metadata": {},
     "output_type": "execute_result"
    }
   ],
   "source": [
    "preds_log = model_lgb.predict(df_test2)\n",
    "pred2 = np.expm1(preds_log)\n",
    "pred2\n",
    "#Calculating predictions"
   ]
  },
  {
   "cell_type": "markdown",
   "metadata": {},
   "source": [
    "# 3. Sklearn's XgBoost"
   ]
  },
  {
   "cell_type": "code",
   "execution_count": 23,
   "metadata": {},
   "outputs": [
    {
     "name": "stdout",
     "output_type": "stream",
     "text": [
      "[18:09:30] WARNING: /workspace/src/objective/regression_obj.cu:152: reg:linear is now deprecated in favor of reg:squarederror.\n",
      "[0.24194788568719108, 0.23183511849800476, 0.6420524618492248, 0.6330899536241574]\n"
     ]
    }
   ],
   "source": [
    "from xgboost import XGBRegressor\n",
    "clf3= XGBRegressor(max_depth=9,learning_rate=0.07,subsample=.8,min_child_weight=3,colsample_bytree=.6,scale_pos_weight=1,\n",
    "gamma=10,reg_alpha=6,reg_lambda=1.1)\n",
    "# n_estimators = 100 (default)\n",
    "# max_depth = 3 (default)\n",
    "clf3.fit(X_train,y_train)\n",
    "print_score(clf3)"
   ]
  },
  {
   "cell_type": "markdown",
   "metadata": {},
   "source": [
    "RMSLE in XgBoost : 0.23183511849800476\n",
    "\n",
    "\n"
   ]
  },
  {
   "cell_type": "markdown",
   "metadata": {},
   "source": [
    "# 4. Native XgBoost"
   ]
  },
  {
   "cell_type": "code",
   "execution_count": 24,
   "metadata": {},
   "outputs": [],
   "source": [
    "dtrain = xgb.DMatrix(X_train, label=y_train)\n",
    "dtest = xgb.DMatrix(X_valid, label=y_valid)\n",
    "\n",
    "params = {\n",
    "    'booster': 'gbtree', \n",
    "    'objective': 'reg:squarederror', # regression task\n",
    "    'subsample': 0.8, # 80% of data to grow trees and prevent overfitting\n",
    "    'colsample_bytree': 0.89, # 89% of features used\n",
    "    'eta': 0.1,\n",
    "    'gamma':0,\n",
    "    'max_depth': 10,\n",
    "    'seed': 42} # for reproducible results\n",
    "params['eval_metric'] = \"rmse\"\n",
    "num_boost_round = 999\n"
   ]
  },
  {
   "cell_type": "markdown",
   "metadata": {},
   "source": [
    "# 4.1 Simple XgBoost"
   ]
  },
  {
   "cell_type": "code",
   "execution_count": 25,
   "metadata": {},
   "outputs": [
    {
     "name": "stdout",
     "output_type": "stream",
     "text": [
      "[0]\tTest-rmse:10.3787\n",
      "Will train until Test-rmse hasn't improved in 10 rounds.\n",
      "[1]\tTest-rmse:9.34375\n",
      "[2]\tTest-rmse:8.41203\n",
      "[3]\tTest-rmse:7.57384\n",
      "[4]\tTest-rmse:6.81947\n",
      "[5]\tTest-rmse:6.13909\n",
      "[6]\tTest-rmse:5.52866\n",
      "[7]\tTest-rmse:4.9762\n",
      "[8]\tTest-rmse:4.48251\n",
      "[9]\tTest-rmse:4.03498\n",
      "[10]\tTest-rmse:3.6347\n",
      "[11]\tTest-rmse:3.27502\n",
      "[12]\tTest-rmse:2.94913\n",
      "[13]\tTest-rmse:2.65514\n",
      "[14]\tTest-rmse:2.39159\n",
      "[15]\tTest-rmse:2.15507\n",
      "[16]\tTest-rmse:1.94306\n",
      "[17]\tTest-rmse:1.75047\n",
      "[18]\tTest-rmse:1.57653\n",
      "[19]\tTest-rmse:1.41996\n",
      "[20]\tTest-rmse:1.28011\n",
      "[21]\tTest-rmse:1.15402\n",
      "[22]\tTest-rmse:1.04224\n",
      "[23]\tTest-rmse:0.942506\n",
      "[24]\tTest-rmse:0.850774\n",
      "[25]\tTest-rmse:0.770433\n",
      "[26]\tTest-rmse:0.69721\n",
      "[27]\tTest-rmse:0.632528\n",
      "[28]\tTest-rmse:0.573333\n",
      "[29]\tTest-rmse:0.521692\n",
      "[30]\tTest-rmse:0.473854\n",
      "[31]\tTest-rmse:0.431484\n",
      "[32]\tTest-rmse:0.393698\n",
      "[33]\tTest-rmse:0.360238\n",
      "[34]\tTest-rmse:0.329711\n",
      "[35]\tTest-rmse:0.304281\n",
      "[36]\tTest-rmse:0.280895\n",
      "[37]\tTest-rmse:0.259735\n",
      "[38]\tTest-rmse:0.242262\n",
      "[39]\tTest-rmse:0.22585\n",
      "[40]\tTest-rmse:0.212129\n",
      "[41]\tTest-rmse:0.199406\n",
      "[42]\tTest-rmse:0.18905\n",
      "[43]\tTest-rmse:0.179676\n",
      "[44]\tTest-rmse:0.171772\n",
      "[45]\tTest-rmse:0.164918\n",
      "[46]\tTest-rmse:0.158819\n",
      "[47]\tTest-rmse:0.153579\n",
      "[48]\tTest-rmse:0.149577\n",
      "[49]\tTest-rmse:0.145244\n",
      "[50]\tTest-rmse:0.141987\n",
      "[51]\tTest-rmse:0.139337\n",
      "[52]\tTest-rmse:0.137141\n",
      "[53]\tTest-rmse:0.135304\n",
      "[54]\tTest-rmse:0.133899\n",
      "[55]\tTest-rmse:0.132204\n",
      "[56]\tTest-rmse:0.131255\n",
      "[57]\tTest-rmse:0.130343\n",
      "[58]\tTest-rmse:0.12955\n",
      "[59]\tTest-rmse:0.128755\n",
      "[60]\tTest-rmse:0.128151\n",
      "[61]\tTest-rmse:0.127519\n",
      "[62]\tTest-rmse:0.127414\n",
      "[63]\tTest-rmse:0.126865\n",
      "[64]\tTest-rmse:0.12676\n",
      "[65]\tTest-rmse:0.126527\n",
      "[66]\tTest-rmse:0.126287\n",
      "[67]\tTest-rmse:0.12614\n",
      "[68]\tTest-rmse:0.126004\n",
      "[69]\tTest-rmse:0.125772\n",
      "[70]\tTest-rmse:0.125491\n",
      "[71]\tTest-rmse:0.125635\n",
      "[72]\tTest-rmse:0.125608\n",
      "[73]\tTest-rmse:0.125616\n",
      "[74]\tTest-rmse:0.125659\n",
      "[75]\tTest-rmse:0.125406\n",
      "[76]\tTest-rmse:0.125126\n",
      "[77]\tTest-rmse:0.125056\n",
      "[78]\tTest-rmse:0.12501\n",
      "[79]\tTest-rmse:0.124896\n",
      "[80]\tTest-rmse:0.124773\n",
      "[81]\tTest-rmse:0.124542\n",
      "[82]\tTest-rmse:0.124611\n",
      "[83]\tTest-rmse:0.124531\n",
      "[84]\tTest-rmse:0.124398\n",
      "[85]\tTest-rmse:0.124279\n",
      "[86]\tTest-rmse:0.124287\n",
      "[87]\tTest-rmse:0.124297\n",
      "[88]\tTest-rmse:0.124252\n",
      "[89]\tTest-rmse:0.124129\n",
      "[90]\tTest-rmse:0.124098\n",
      "[91]\tTest-rmse:0.124222\n",
      "[92]\tTest-rmse:0.124175\n",
      "[93]\tTest-rmse:0.124131\n",
      "[94]\tTest-rmse:0.124078\n",
      "[95]\tTest-rmse:0.124057\n",
      "[96]\tTest-rmse:0.123989\n",
      "[97]\tTest-rmse:0.123991\n",
      "[98]\tTest-rmse:0.123993\n",
      "[99]\tTest-rmse:0.123974\n",
      "[100]\tTest-rmse:0.123982\n",
      "[101]\tTest-rmse:0.123958\n",
      "[102]\tTest-rmse:0.123924\n",
      "[103]\tTest-rmse:0.123845\n",
      "[104]\tTest-rmse:0.123834\n",
      "[105]\tTest-rmse:0.123901\n",
      "[106]\tTest-rmse:0.123904\n",
      "[107]\tTest-rmse:0.124031\n",
      "[108]\tTest-rmse:0.12402\n",
      "[109]\tTest-rmse:0.124031\n",
      "[110]\tTest-rmse:0.123932\n",
      "[111]\tTest-rmse:0.12393\n",
      "[112]\tTest-rmse:0.123936\n",
      "[113]\tTest-rmse:0.123921\n",
      "[114]\tTest-rmse:0.123938\n",
      "Stopping. Best iteration:\n",
      "[104]\tTest-rmse:0.123834\n",
      "\n"
     ]
    }
   ],
   "source": [
    "model = xgb.train(\n",
    "    params,\n",
    "    dtrain,\n",
    "    num_boost_round=num_boost_round,\n",
    "    evals=[(dtest, \"Test\")],\n",
    "    early_stopping_rounds=10\n",
    ")"
   ]
  },
  {
   "cell_type": "markdown",
   "metadata": {},
   "source": [
    "RMSLE in Simple XgBoost : 0.123834"
   ]
  },
  {
   "cell_type": "markdown",
   "metadata": {},
   "source": [
    "# 4.2 XgBoost with cross validation"
   ]
  },
  {
   "cell_type": "code",
   "execution_count": 26,
   "metadata": {},
   "outputs": [
    {
     "data": {
      "text/html": [
       "<div>\n",
       "<style scoped>\n",
       "    .dataframe tbody tr th:only-of-type {\n",
       "        vertical-align: middle;\n",
       "    }\n",
       "\n",
       "    .dataframe tbody tr th {\n",
       "        vertical-align: top;\n",
       "    }\n",
       "\n",
       "    .dataframe thead th {\n",
       "        text-align: right;\n",
       "    }\n",
       "</style>\n",
       "<table border=\"1\" class=\"dataframe\">\n",
       "  <thead>\n",
       "    <tr style=\"text-align: right;\">\n",
       "      <th></th>\n",
       "      <th>train-rmse-mean</th>\n",
       "      <th>train-rmse-std</th>\n",
       "      <th>test-rmse-mean</th>\n",
       "      <th>test-rmse-std</th>\n",
       "    </tr>\n",
       "  </thead>\n",
       "  <tbody>\n",
       "    <tr>\n",
       "      <td>0</td>\n",
       "      <td>10.381735</td>\n",
       "      <td>0.003938</td>\n",
       "      <td>10.381722</td>\n",
       "      <td>0.016387</td>\n",
       "    </tr>\n",
       "    <tr>\n",
       "      <td>1</td>\n",
       "      <td>9.346777</td>\n",
       "      <td>0.003399</td>\n",
       "      <td>9.346762</td>\n",
       "      <td>0.016944</td>\n",
       "    </tr>\n",
       "    <tr>\n",
       "      <td>2</td>\n",
       "      <td>8.414673</td>\n",
       "      <td>0.003186</td>\n",
       "      <td>8.414658</td>\n",
       "      <td>0.017154</td>\n",
       "    </tr>\n",
       "    <tr>\n",
       "      <td>3</td>\n",
       "      <td>7.576957</td>\n",
       "      <td>0.003020</td>\n",
       "      <td>7.576942</td>\n",
       "      <td>0.017298</td>\n",
       "    </tr>\n",
       "    <tr>\n",
       "      <td>4</td>\n",
       "      <td>6.822252</td>\n",
       "      <td>0.002649</td>\n",
       "      <td>6.822234</td>\n",
       "      <td>0.017816</td>\n",
       "    </tr>\n",
       "    <tr>\n",
       "      <td>...</td>\n",
       "      <td>...</td>\n",
       "      <td>...</td>\n",
       "      <td>...</td>\n",
       "      <td>...</td>\n",
       "    </tr>\n",
       "    <tr>\n",
       "      <td>96</td>\n",
       "      <td>0.016792</td>\n",
       "      <td>0.000750</td>\n",
       "      <td>0.137086</td>\n",
       "      <td>0.010824</td>\n",
       "    </tr>\n",
       "    <tr>\n",
       "      <td>97</td>\n",
       "      <td>0.016306</td>\n",
       "      <td>0.000679</td>\n",
       "      <td>0.137075</td>\n",
       "      <td>0.010833</td>\n",
       "    </tr>\n",
       "    <tr>\n",
       "      <td>98</td>\n",
       "      <td>0.015866</td>\n",
       "      <td>0.000600</td>\n",
       "      <td>0.137074</td>\n",
       "      <td>0.010859</td>\n",
       "    </tr>\n",
       "    <tr>\n",
       "      <td>99</td>\n",
       "      <td>0.015466</td>\n",
       "      <td>0.000654</td>\n",
       "      <td>0.137065</td>\n",
       "      <td>0.010921</td>\n",
       "    </tr>\n",
       "    <tr>\n",
       "      <td>100</td>\n",
       "      <td>0.015082</td>\n",
       "      <td>0.000642</td>\n",
       "      <td>0.137010</td>\n",
       "      <td>0.010900</td>\n",
       "    </tr>\n",
       "  </tbody>\n",
       "</table>\n",
       "<p>101 rows × 4 columns</p>\n",
       "</div>"
      ],
      "text/plain": [
       "     train-rmse-mean  train-rmse-std  test-rmse-mean  test-rmse-std\n",
       "0          10.381735        0.003938       10.381722       0.016387\n",
       "1           9.346777        0.003399        9.346762       0.016944\n",
       "2           8.414673        0.003186        8.414658       0.017154\n",
       "3           7.576957        0.003020        7.576942       0.017298\n",
       "4           6.822252        0.002649        6.822234       0.017816\n",
       "..               ...             ...             ...            ...\n",
       "96          0.016792        0.000750        0.137086       0.010824\n",
       "97          0.016306        0.000679        0.137075       0.010833\n",
       "98          0.015866        0.000600        0.137074       0.010859\n",
       "99          0.015466        0.000654        0.137065       0.010921\n",
       "100         0.015082        0.000642        0.137010       0.010900\n",
       "\n",
       "[101 rows x 4 columns]"
      ]
     },
     "execution_count": 26,
     "metadata": {},
     "output_type": "execute_result"
    }
   ],
   "source": [
    "cv_results = xgb.cv(\n",
    "    params,\n",
    "    dtrain,\n",
    "    num_boost_round=num_boost_round,\n",
    "    seed=42,\n",
    "    nfold=5,\n",
    "    metrics={'rmse'},\n",
    "    early_stopping_rounds=10\n",
    ")\n",
    "cv_results"
   ]
  },
  {
   "cell_type": "markdown",
   "metadata": {},
   "source": [
    "RMSLE in XgBoost with Cross Validation : 0.137010"
   ]
  },
  {
   "cell_type": "markdown",
   "metadata": {},
   "source": [
    "# 4.3 XgBoost with Cross Validation and Grid Search "
   ]
  },
  {
   "cell_type": "markdown",
   "metadata": {},
   "source": [
    "#### *Using grid search for max_depth and min_child_weight*"
   ]
  },
  {
   "cell_type": "code",
   "execution_count": null,
   "metadata": {},
   "outputs": [
    {
     "name": "stdout",
     "output_type": "stream",
     "text": [
      "CV with max_depth=5, min_child_weight=1\n"
     ]
    },
    {
     "name": "stderr",
     "output_type": "stream",
     "text": [
      "/home/shivangmathur/anaconda3/envs/fastai_ml_1/lib/python3.7/site-packages/ipykernel_launcher.py:34: FutureWarning: \n",
      "The current behaviour of 'Series.argmin' is deprecated, use 'idxmin'\n",
      "instead.\n",
      "The behavior of 'argmin' will be corrected to return the positional\n",
      "minimum in the future. For now, use 'series.values.argmin' or\n",
      "'np.argmin(np.array(values))' to get the position of the minimum\n",
      "row.\n"
     ]
    },
    {
     "name": "stdout",
     "output_type": "stream",
     "text": [
      "\tRMSE 0.1349412 for 109 rounds\n",
      "CV with max_depth=5, min_child_weight=2\n",
      "\tRMSE 0.1320242 for 190 rounds\n",
      "CV with max_depth=5, min_child_weight=3\n",
      "\tRMSE 0.13257560000000002 for 147 rounds\n",
      "CV with max_depth=5, min_child_weight=4\n",
      "\tRMSE 0.1324042 for 121 rounds\n",
      "CV with max_depth=5, min_child_weight=5\n",
      "\tRMSE 0.13026279999999998 for 125 rounds\n",
      "CV with max_depth=5, min_child_weight=6\n",
      "\tRMSE 0.131125 for 99 rounds\n",
      "CV with max_depth=5, min_child_weight=7\n",
      "\tRMSE 0.13255820000000001 for 138 rounds\n",
      "CV with max_depth=6, min_child_weight=1\n"
     ]
    }
   ],
   "source": [
    "params['eval_metric'] = \"rmse\"\n",
    "gridsearch_params = [\n",
    "    (max_depth, min_child_weight)\n",
    "    for max_depth in range(5,12)\n",
    "    for min_child_weight in range(1,8)\n",
    "]\n",
    "\n",
    "min_mae = float(\"Inf\")\n",
    "best_params = None\n",
    "\n",
    "min_rmse = float(\"Inf\")\n",
    "for max_depth, min_child_weight in gridsearch_params:\n",
    "    print(\"CV with max_depth={}, min_child_weight={}\".format(\n",
    "                             max_depth,\n",
    "                             min_child_weight))\n",
    "\n",
    "    # Update our parameters\n",
    "    params['max_depth'] = max_depth\n",
    "    params['min_child_weight'] = min_child_weight\n",
    "\n",
    "    # Run CV\n",
    "    cv_results = xgb.cv(\n",
    "        params,\n",
    "        dtrain,\n",
    "        num_boost_round=num_boost_round,\n",
    "        seed=42,\n",
    "        nfold=5,\n",
    "        metrics={'rmse'},\n",
    "        early_stopping_rounds=10\n",
    "    )\n",
    "    \n",
    "      # Update best RMSLE\n",
    "    mean_rmse = cv_results['test-rmse-mean'].min()\n",
    "    boost_rounds = cv_results['test-rmse-mean'].argmin()\n",
    "    print(\"\\tRMSE {} for {} rounds\".format(mean_rmse, boost_rounds))\n",
    "    if mean_rmse < min_rmse:\n",
    "        min_rmse = mean_rmse\n",
    "        best_params = (max_depth,min_child_weight)\n",
    "\n",
    "print(\"Best params: {}, {}, RMSE: {}\".format(best_params[0], best_params[1], min_rmse))  "
   ]
  },
  {
   "cell_type": "markdown",
   "metadata": {},
   "source": [
    "After performing Grid Search on max_depth and min_child_weight, best parameters are:\n",
    "    max_depth : 6\n",
    "    min_child_weight : 5    "
   ]
  },
  {
   "cell_type": "markdown",
   "metadata": {},
   "source": [
    "#### *Using grid search for subsample and colsample*"
   ]
  },
  {
   "cell_type": "code",
   "execution_count": null,
   "metadata": {},
   "outputs": [],
   "source": [
    "gridsearch_params = [\n",
    "    (subsample, colsample)\n",
    "    for subsample in [i/10. for i in range(5,10)]\n",
    "    for colsample in [i/10. for i in range(5,10)]\n",
    "]\n",
    "\n",
    "min_rmse = float(\"Inf\")\n",
    "best_params = None\n",
    "\n",
    "# We start by the largest values and go down to the smallest\n",
    "for subsample, colsample in reversed(gridsearch_params):\n",
    "    print(\"CV with subsample={}, colsample={}\".format(\n",
    "                             subsample,\n",
    "                             colsample))\n",
    "\n",
    "    # We update our parameters\n",
    "    params['subsample'] = subsample\n",
    "    params['colsample_bytree'] = colsample\n",
    "\n",
    "    # Run CV\n",
    "    cv_results = xgb.cv(\n",
    "        params,\n",
    "        dtrain,\n",
    "        num_boost_round=num_boost_round,\n",
    "        seed=42,\n",
    "        nfold=5,\n",
    "        metrics={'rmse'},\n",
    "        early_stopping_rounds=10\n",
    "    )\n",
    "\n",
    "    # Update best score\n",
    "    mean_rmse = cv_results['test-rmse-mean'].min()\n",
    "    boost_rounds = cv_results['test-rmse-mean'].argmin()\n",
    "    print(\"\\tRMSE {} for {} rounds\".format(mean_rmse, boost_rounds))\n",
    "    if mean_rmse < min_rmse:\n",
    "        min_rmse = mean_rmse\n",
    "        best_params = (subsample,colsample)\n",
    "\n",
    "print(\"Best params: {}, {}, RMSE: {}\".format(best_params[0], best_params[1], min_rmse))"
   ]
  },
  {
   "cell_type": "markdown",
   "metadata": {},
   "source": [
    "After performing Grid Search on subsample and colsample, best parameters are:\n",
    "    subsample : 0.8\n",
    "    colsample : 0.8  "
   ]
  },
  {
   "cell_type": "markdown",
   "metadata": {},
   "source": [
    "#### *Using grid search for eta*"
   ]
  },
  {
   "cell_type": "code",
   "execution_count": null,
   "metadata": {},
   "outputs": [],
   "source": [
    "min_rmse = float(\"Inf\")\n",
    "best_params = None\n",
    "\n",
    "for eta in [.022, .025, .02, .027, .028, .021]:\n",
    "    print(\"CV with eta={}\".format(eta))\n",
    "\n",
    "    # We update our parameters\n",
    "    params['eta'] = eta\n",
    "\n",
    "    # Run and time CV\n",
    "    cv_results = xgb.cv(params,\n",
    "            dtrain,\n",
    "            num_boost_round=num_boost_round,\n",
    "            seed=42,\n",
    "            nfold=5,\n",
    "            metrics=['rmse'],\n",
    "            early_stopping_rounds=10\n",
    "          )\n",
    "\n",
    "    # Update best score\n",
    "    mean_rmse = cv_results['test-rmse-mean'].min()\n",
    "    boost_rounds = cv_results['test-rmse-mean'].argmin()\n",
    "    print(\"\\tRMSE {} for {} rounds\\n\".format(mean_rmse, boost_rounds))\n",
    "    if mean_rmse < min_rmse:\n",
    "        min_rmse = mean_rmse\n",
    "        best_params = eta\n",
    "\n",
    "print(\"Best params: {}, RMSE: {}\".format(best_params, min_rmse))"
   ]
  },
  {
   "cell_type": "markdown",
   "metadata": {},
   "source": [
    "After performing Grid Search on eta, best parameters are:\n",
    "\n",
    "eta : 0.02"
   ]
  },
  {
   "cell_type": "markdown",
   "metadata": {},
   "source": [
    "#### *Using grid search for reg_alpha*"
   ]
  },
  {
   "cell_type": "code",
   "execution_count": null,
   "metadata": {},
   "outputs": [],
   "source": [
    "min_rmse = float(\"Inf\")\n",
    "best_params = None\n",
    "\n",
    "for reg_alpha in [0, 0.001, 0.005, 0.01, 0.05]:\n",
    "    print(\"CV with reg_alpha ={}\".format(reg_alpha ))\n",
    "\n",
    "    # We update our parameters\n",
    "    params['reg_alpha '] = reg_alpha \n",
    "\n",
    "    # Run and time CV\n",
    "    cv_results = xgb.cv(params,\n",
    "            dtrain,\n",
    "            num_boost_round=num_boost_round,\n",
    "            seed=42,\n",
    "            nfold=5,\n",
    "            metrics=['rmse'],\n",
    "            early_stopping_rounds=10\n",
    "          )\n",
    "\n",
    "    # Update best score\n",
    "    mean_rmse = cv_results['test-rmse-mean'].min()\n",
    "    boost_rounds = cv_results['test-rmse-mean'].argmin()\n",
    "    print(\"\\tRMSE {} for {} rounds\\n\".format(mean_rmse, boost_rounds))\n",
    "    if mean_rmse < min_rmse:\n",
    "        min_rmse = mean_rmse\n",
    "        best_params = reg_alpha \n",
    "\n",
    "print(\"Best params: {}, RMSE: {}\".format(best_params, min_rmse))"
   ]
  },
  {
   "cell_type": "markdown",
   "metadata": {},
   "source": [
    "### Now incorporating the best parameters into the final model"
   ]
  },
  {
   "cell_type": "code",
   "execution_count": null,
   "metadata": {},
   "outputs": [],
   "source": [
    "params = {\n",
    "    'booster': 'gbtree', \n",
    "    'objective': 'reg:squarederror', # regression task\n",
    "    'subsample': 0.8, # 80% of data to grow trees and prevent overfitting\n",
    "    'colsample' : 0.8, # 80% of features used\n",
    "    'eta': 0.02,\n",
    "    'max_depth': 6,\n",
    "    'min_child_weight' : 5,\n",
    "    'seed': 42} # for reproducible results\n",
    "params['eval_metric'] = \"rmse\"\n",
    "num_boost_round = 999\n"
   ]
  },
  {
   "cell_type": "code",
   "execution_count": null,
   "metadata": {},
   "outputs": [],
   "source": [
    "model = xgb.train(\n",
    "    params,\n",
    "    dtrain,\n",
    "    num_boost_round=num_boost_round,\n",
    "    evals=[(dtest, \"Test\")],\n",
    "    early_stopping_rounds=10\n",
    ")"
   ]
  },
  {
   "cell_type": "markdown",
   "metadata": {},
   "source": [
    "# Final Predictions"
   ]
  },
  {
   "cell_type": "code",
   "execution_count": null,
   "metadata": {},
   "outputs": [],
   "source": [
    "test = xgb.DMatrix(df_test2)\n",
    "preds_log = model.predict(test)\n",
    "pred3 = np.expm1(preds_log)\n",
    "pred3\n",
    "#Calculating predictions"
   ]
  },
  {
   "cell_type": "code",
   "execution_count": null,
   "metadata": {},
   "outputs": [],
   "source": [
    "#Creating Submission File\n",
    "submission = pd.DataFrame({\n",
    "        \"ID\": df_test[\"Id\"],\n",
    "        \"saleprice\": pred3\n",
    "    })\n",
    "submission.to_csv('Kaggle House Price Prediction.csv',header=True, index=False)"
   ]
  },
  {
   "cell_type": "markdown",
   "metadata": {},
   "source": [
    "# Understanding the data"
   ]
  },
  {
   "cell_type": "code",
   "execution_count": null,
   "metadata": {},
   "outputs": [],
   "source": [
    "#Plotting a graph between the scores obtaibned from the validation sets of our models vs the score obtained\n",
    "#from kaggle\n",
    "x = [\n",
    "0.12694616827013327,0.13292792672788983,\n",
    "0.23365237301751454]\n",
    "y = [\n",
    "0.13052,0.14462,\n",
    "0.26203]\n",
    "import matplotlib.pyplot as plt\n",
    "plt.plot(x, y, linewidth=3)\n",
    "\n",
    "plt.show()"
   ]
  },
  {
   "cell_type": "markdown",
   "metadata": {},
   "source": [
    "As the line obtained is similar to graph of (y=x), it can be said that the validation set is a decent\n",
    "representation of test set on kaggle"
   ]
  },
  {
   "cell_type": "markdown",
   "metadata": {},
   "source": [
    "### Calculating feature importance"
   ]
  },
  {
   "cell_type": "code",
   "execution_count": null,
   "metadata": {},
   "outputs": [],
   "source": [
    "t=m.estimators_[0].tree_\n",
    "fi = rf_feat_importance(m, df_trn2) \n",
    "fi.plot('cols', 'imp', figsize=(10,6), legend=False);"
   ]
  },
  {
   "cell_type": "code",
   "execution_count": null,
   "metadata": {},
   "outputs": [],
   "source": [
    "#Calculating feature importance by bar chart\n",
    "def plot_fi(fi): return fi.plot('cols', 'imp', 'barh', figsize=(12,7), legend=False)\n",
    "plot_fi(fi[:30]);"
   ]
  },
  {
   "cell_type": "markdown",
   "metadata": {},
   "source": [
    "#### The most important features in the dataset:\n",
    "1. GrLivArea: Above grade (ground) living area square feet\n",
    "2. Age: How many years old the house was when it was bought."
   ]
  },
  {
   "cell_type": "markdown",
   "metadata": {},
   "source": [
    "### Finding molticollinearity using Dendogram"
   ]
  },
  {
   "cell_type": "code",
   "execution_count": null,
   "metadata": {},
   "outputs": [],
   "source": [
    "from scipy.cluster import hierarchy as hc\n",
    "to_keep = fi[fi.imp>0.001].cols; len(to_keep)\n",
    "df_keep = df_trn2[to_keep].copy()\n",
    "corr = np.round(scipy.stats.spearmanr(df_keep).correlation, 4)\n",
    "corr_condensed = hc.distance.squareform(1-corr)\n",
    "z = hc.linkage(corr_condensed, method='average')\n",
    "fig = plt.figure(figsize=(16,10))\n",
    "dendrogram = hc.dendrogram(z, labels=df_keep.columns, \n",
    "      orientation='left', leaf_font_size=16)\n",
    "plt.show()"
   ]
  },
  {
   "cell_type": "markdown",
   "metadata": {},
   "source": [
    "There is no multicollinearity among the features."
   ]
  },
  {
   "cell_type": "markdown",
   "metadata": {},
   "source": [
    "### Partial dependency plots"
   ]
  },
  {
   "cell_type": "code",
   "execution_count": null,
   "metadata": {},
   "outputs": [],
   "source": [
    "from pdpbox import pdp # \n",
    "from plotnine import *\n",
    "from sklearn.ensemble.partial_dependence import partial_dependence, plot_partial_dependence\n",
    "def plot_pdp(feat, clusters=None, feat_name=None):\n",
    "    feat_name = feat_name or feat\n",
    "    p = pdp.pdp_isolate(m, df_trn2,feature=feat_name,model_features=df_trn2.columns)\n",
    "    return pdp.pdp_plot(p, feat_name, plot_lines=True, \n",
    "                        cluster=clusters is not None, \n",
    "                        n_cluster_centers=clusters)\n",
    "\n",
    "plot_pdp('Age')"
   ]
  },
  {
   "cell_type": "markdown",
   "metadata": {},
   "source": [
    "##### Insight : Saleprice of a house decreases with the age of house"
   ]
  },
  {
   "cell_type": "code",
   "execution_count": null,
   "metadata": {},
   "outputs": [],
   "source": [
    "from sklearn.ensemble.partial_dependence import partial_dependence, plot_partial_dependence\n",
    "def plot_pdp(feat, clusters=None, feat_name=None):\n",
    "    feat_name = feat_name or feat\n",
    "    p = pdp.pdp_isolate(m, df_trn2,feature=feat_name,model_features=df_trn2.columns)\n",
    "    return pdp.pdp_plot(p, feat_name, plot_lines=True, \n",
    "                        cluster=clusters is not None, \n",
    "                        n_cluster_centers=clusters)\n",
    "\n",
    "plot_pdp('GrLivArea')"
   ]
  },
  {
   "cell_type": "markdown",
   "metadata": {},
   "source": [
    "##### Insight : Saleprice of a house increases with GrLivArea"
   ]
  },
  {
   "cell_type": "code",
   "execution_count": null,
   "metadata": {},
   "outputs": [],
   "source": [
    "from sklearn.ensemble.partial_dependence import partial_dependence, plot_partial_dependence\n",
    "def plot_pdp(feat, clusters=None, feat_name=None):\n",
    "    feat_name = feat_name or feat\n",
    "    p = pdp.pdp_isolate(m, df_trn2,feature=feat_name,model_features=df_trn2.columns)\n",
    "    return pdp.pdp_plot(p, feat_name, plot_lines=True, \n",
    "                        cluster=clusters is not None, \n",
    "                        n_cluster_centers=clusters)\n",
    "\n",
    "plot_pdp('Quality')"
   ]
  },
  {
   "cell_type": "markdown",
   "metadata": {},
   "source": [
    "##### Insight : Saleprice of a house increases with Quality"
   ]
  },
  {
   "cell_type": "markdown",
   "metadata": {},
   "source": [
    "## Important outcomes:\n",
    "1. LightGBM and XgBoost with grid search performed better than Sklearn's XgBoost and Random Forest.\n",
    "2. LightGBM and XgBoost with grid search gave similar results.\n",
    "3. Using XgBoost with grid search improved the RMSLE from 0.123636 to 0.121844.\n",
    "4. Feature Engineering helped to improve score on Kaggle. \n",
    "5. Before feature Engineering: Rank-40%\n",
    "6. After feature Engineering: Rank-32%"
   ]
  },
  {
   "cell_type": "markdown",
   "metadata": {},
   "source": [
    "# Data Visualization"
   ]
  },
  {
   "cell_type": "markdown",
   "metadata": {},
   "source": [
    "#### Heatmap\n",
    "*Heat Map of correlation coefficients.*"
   ]
  },
  {
   "cell_type": "code",
   "execution_count": null,
   "metadata": {},
   "outputs": [],
   "source": [
    "df_raw['SalePrice'] = np.expm1(df_raw['SalePrice'])\n",
    "f, ax = plt.subplots(figsize=(16, 8))\n",
    "corr = df_raw.corr()\n",
    "fig = sns.heatmap(corr)"
   ]
  },
  {
   "cell_type": "markdown",
   "metadata": {},
   "source": [
    "#### Distribution Plot"
   ]
  },
  {
   "cell_type": "markdown",
   "metadata": {},
   "source": [
    "*A distribution plot shows the distribution of a particular feature*"
   ]
  },
  {
   "cell_type": "code",
   "execution_count": null,
   "metadata": {},
   "outputs": [],
   "source": [
    "fig = sns.distplot(df_raw['SalePrice'],color='darkcyan')"
   ]
  },
  {
   "cell_type": "markdown",
   "metadata": {},
   "source": [
    "This plot shows the distribution of saleprice in the dataset."
   ]
  },
  {
   "cell_type": "markdown",
   "metadata": {},
   "source": [
    "#### Marginal Plots"
   ]
  },
  {
   "cell_type": "markdown",
   "metadata": {},
   "source": [
    "*A marginal plot allows to study the relationship between 2 numeric variables. The central chart display their correlation. It is usually a scatterplot, a hexbin plot, a 2D histogram or a 2D density plot. The marginal charts, usually at the top and at the right, show the distribution of the 2 variables using histogram or density plot.*"
   ]
  },
  {
   "cell_type": "code",
   "execution_count": null,
   "metadata": {},
   "outputs": [],
   "source": [
    "fig = sns.jointplot(x=df_raw[\"SalePrice\"], y=df_raw[\"GrLivArea\"], kind='scatter',s=200, color='pink', edgecolor=\"white\", linewidth=2)"
   ]
  },
  {
   "cell_type": "markdown",
   "metadata": {},
   "source": [
    "This graph shows the distribution of SalePrice and GrLivArea and the relationship between Saleprice and GrLivArea. Saleprice increases with GrLivArea. "
   ]
  },
  {
   "cell_type": "code",
   "execution_count": null,
   "metadata": {},
   "outputs": [],
   "source": [
    "sns.jointplot(x=df_raw[\"SalePrice\"], y=df_raw[\"Age\"], kind='hex', color='skyblue',gridsize=13)"
   ]
  },
  {
   "cell_type": "markdown",
   "metadata": {},
   "source": [
    "This graph shows the distribution of SalePrice and Age and the relationship between Saleprice and Age through a hexplot. Saleprice shows a decrease with Age. "
   ]
  },
  {
   "cell_type": "code",
   "execution_count": null,
   "metadata": {},
   "outputs": [],
   "source": [
    "fig = sns.jointplot(x=df_raw[\"SalePrice\"], y=df_raw[\"GarageCars\"], kind='reg',color = 'limegreen')"
   ]
  },
  {
   "cell_type": "markdown",
   "metadata": {},
   "source": [
    "This graph shows the distribution of SalePrice and GarageCars and the relationship between Saleprice and GarageCars through a regplot. Saleprice shows increase with GarageCars. "
   ]
  },
  {
   "cell_type": "markdown",
   "metadata": {},
   "source": [
    "#### Boxplot\n",
    "*A boxplot is a standardized way of displaying the distribution of data based on a five number summary (“minimum”, first quartile (Q1), median, third quartile (Q3), and “maximum”). It can tell you about your outliers and what their values are. It can also tell you if your data is symmetrical, how tightly your data is grouped, and if and how your data is skewed.*"
   ]
  },
  {
   "cell_type": "code",
   "execution_count": null,
   "metadata": {},
   "outputs": [],
   "source": [
    "f, ax = plt.subplots(figsize=(10, 8))\n",
    "fig = sns.boxplot(x=\"Quality\", y=\"SalePrice\", data=df_raw)\n",
    "fig.axis(ymin=0, ymax=800000)"
   ]
  },
  {
   "cell_type": "markdown",
   "metadata": {},
   "source": [
    "This graph shows  relationship between Saleprice and Quality by a boxplot. The saleprice generally increases with Quality."
   ]
  },
  {
   "cell_type": "markdown",
   "metadata": {},
   "source": [
    "#### Swarmplot\n",
    "*The swarmplot plot is a one-dimensional scatter plot like \"stripchart\", but with closely-packed, non-overlapping points.*"
   ]
  },
  {
   "cell_type": "code",
   "execution_count": null,
   "metadata": {},
   "outputs": [],
   "source": [
    "f, ax = plt.subplots(figsize=(10, 8))\n",
    "sns.swarmplot(x='TotRmsAbvGrd', y='SalePrice', hue='GrLivArea',\n",
    "              data =df_raw,color = 'red',alpha=0.8)"
   ]
  },
  {
   "cell_type": "markdown",
   "metadata": {},
   "source": [
    "This graph shows relationship between Saleprice, TotRmsAbvGrd and GrLivArea by a swarmplot.The darker the color the smaller is the GrLivArea. The saleprice generally increases with TotRmsAbvGrd and GrLivArea."
   ]
  },
  {
   "cell_type": "markdown",
   "metadata": {},
   "source": [
    "#### Line chart\n",
    "*A line chart or line plot or line graph is a type of chart which displays information as a series of data points called 'markers' connected by straight line segments.*"
   ]
  },
  {
   "cell_type": "code",
   "execution_count": null,
   "metadata": {},
   "outputs": [],
   "source": [
    "f, ax = plt.subplots(figsize=(10, 8))\n",
    "sns.lineplot(x='Avg area of room', y='SalePrice', data=df_raw, hue='BedroomAbvGr')"
   ]
  },
  {
   "cell_type": "markdown",
   "metadata": {},
   "source": [
    "This graph shows relationship between Saleprice, Avg area of room and BedroomAbvGr by a lineplot. The saleprice generally increases with Avg area of room and BedroomAbvGr."
   ]
  }
 ],
 "metadata": {
  "kernelspec": {
   "display_name": "fastai_work",
   "language": "python",
   "name": "fastai_work"
  },
  "language_info": {
   "codemirror_mode": {
    "name": "ipython",
    "version": 3
   },
   "file_extension": ".py",
   "mimetype": "text/x-python",
   "name": "python",
   "nbconvert_exporter": "python",
   "pygments_lexer": "ipython3",
   "version": "3.7.4"
  }
 },
 "nbformat": 4,
 "nbformat_minor": 2
}
